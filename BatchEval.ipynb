{
 "cells": [
  {
   "cell_type": "code",
   "execution_count": 6,
   "metadata": {},
   "outputs": [
    {
     "name": "stdout",
     "output_type": "stream",
     "text": [
      "python run.py --root /home/cc/Lisa_new_atheisim --k2 40.23 --k2_err 10 --PSFOTFscale 0.63 --ModFac 0.8 --imageSize 256 --out AtheiSIM-out-20210125/3x3 --model rcan --nch_in 9 --nch_out 1 --ntrain 780 --ntest 20 --scale 1 --task simin_gtout --n_resgroups 3 --n_resblocks 10 --n_feats 64 --lr 0.0001 --nepoch 100 --scheduler 20,0.5 --norm minmax --dataset fouriersim --workers 6 --batchSize 2 --saveinterval 20 --plotinterval 10 --nplot 5 --weights mlsim-runs/20201229_0359-kiiara.cl.cam.ac.uk-20201229_SIMRec_1_3x3/final.pth --test\n"
     ]
    }
   ],
   "source": [
    "import glob\n",
    "import os\n",
    "\n",
    "folders = glob.glob('mlsim-runs/*')\n",
    "basecmd = 'python run.py'\n",
    "baseout = 'AtheiSIM-out-20210125'\n",
    "workdir = 'ccRestore/'\n",
    "\n",
    "os.makedirs(baseout,exist_ok=True)\n",
    "\n",
    "newopts = {\n",
    "    'root': '/home/cc/Lisa_new_atheisim',\n",
    "    'out': baseout + '/%s',\n",
    "    'sourceimages_path':'',\n",
    "    'datagen_workers':'',\n",
    "    'nrep':'',\n",
    "    'NoiseLevel':'',\n",
    "    'NoiseLevelRandFac':'',\n",
    "    'Nangle':'',\n",
    "    'Nshift':'',\n",
    "    'phaseErrorFac':'',\n",
    "    'alphaErrorFac':'',\n",
    "    'disposableTrainingData':'',\n",
    "    'cloud':'',\n",
    "    'usePoissonNoise':'',\n",
    "    'dontShuffleOrientations':'',\n",
    "    'applyOTFtoGT':''\n",
    "}\n",
    "\n",
    "\n",
    "cmds = []\n",
    "\n",
    "for folder in folders:\n",
    "    if '3x5' in folder or '5x5' in folder:\n",
    "        continue\n",
    "    log = open('%s/log.txt' % folder,'r').readlines()\n",
    "    \n",
    "    for line in log:\n",
    "        if 'ARGS:' in line:\n",
    "            line = line.replace('\\n','')\n",
    "            opts = line.split(' --')[1:]\n",
    "            \n",
    "            newoptarray = []\n",
    "            \n",
    "            for opt in opts:\n",
    "                optname = opt.split(' ')[0]\n",
    "                if optname in newopts:\n",
    "                    if newopts[optname] != '':\n",
    "                        newoptarray.append('%s %s' % (optname,newopts[optname]))\n",
    "                else:\n",
    "                    newoptarray.append(opt)\n",
    "            \n",
    "            optstring = ' --'.join(newoptarray)\n",
    "            \n",
    "            if '20201222' in folder:\n",
    "                optstring = optstring % 'lowerr_highnfeat'\n",
    "            else:\n",
    "                optstring = optstring % os.path.basename(folder).split('_')[-1]\n",
    "                            \n",
    "            cmds.append('%s --%s %s' % (basecmd,optstring,'--weights %s/final.pth --test' % folder))\n",
    "\n",
    "print(cmds[0])"
   ]
  },
  {
   "cell_type": "code",
   "execution_count": 9,
   "metadata": {},
   "outputs": [],
   "source": [
    "import subprocess\n",
    "import os\n",
    "\n",
    "for cmd in cmds:\n",
    "    os.system(cmd)"
   ]
  },
  {
   "cell_type": "code",
   "execution_count": 17,
   "metadata": {},
   "outputs": [
    {
     "data": {
      "text/plain": [
       "1"
      ]
     },
     "execution_count": 17,
     "metadata": {},
     "output_type": "execute_result"
    }
   ],
   "source": [
    "subprocess.call(cmd,cwd=workdir,shell=True)"
   ]
  },
  {
   "cell_type": "code",
   "execution_count": null,
   "metadata": {},
   "outputs": [],
   "source": []
  }
 ],
 "metadata": {
  "kernelspec": {
   "display_name": "Python 3",
   "language": "python",
   "name": "python3"
  },
  "language_info": {
   "codemirror_mode": {
    "name": "ipython",
    "version": 3
   },
   "file_extension": ".py",
   "mimetype": "text/x-python",
   "name": "python",
   "nbconvert_exporter": "python",
   "pygments_lexer": "ipython3",
   "version": "3.8.5"
  }
 },
 "nbformat": 4,
 "nbformat_minor": 4
}
